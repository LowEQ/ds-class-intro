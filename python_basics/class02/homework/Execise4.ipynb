{
 "cells": [
  {
   "cell_type": "markdown",
   "id": "4dc5cbce",
   "metadata": {},
   "source": [
    "Exercise 4."
   ]
  },
  {
   "cell_type": "markdown",
   "id": "f669ca90",
   "metadata": {},
   "source": [
    "1. [Read more on `list`] and select 2 list methods not mentioned in class to give examples of using them."
   ]
  },
  {
   "cell_type": "code",
   "execution_count": 1,
   "id": "7bf35089",
   "metadata": {},
   "outputs": [
    {
     "name": "stdout",
     "output_type": "stream",
     "text": [
      "[1, 2, 3, 4, 5, 6, 7]\n",
      "[]\n",
      "['Y', 'e', 'a', 'h', ' ', 't', 'h', 'i', 's', ' ', 'i', 's', ' ', 'e', 'a', 's', 'y']\n",
      "2 a's in ['Y', 'e', 'a', 'h', ' ', 't', 'h', 'i', 's', ' ', 'i', 's', ' ', 'e', 'a', 's', 'y']\n"
     ]
    }
   ],
   "source": [
    "#Solution\n",
    "#Case 1 list.clear() -> this remove all items in a list\n",
    "list1 = [1,2,3,4,5,6,7]\n",
    "print(list1)\n",
    "list1.clear()\n",
    "print(list1)\n",
    "\n",
    "#Case 2 list.count(x) -> this returns a num value that tells how many times x appear in that list\n",
    "list2 = list(\"Yeah this is easy\")\n",
    "print(list2)\n",
    "countNum = list2.count('a')\n",
    "print(str(countNum)+\" a's in \" + str(list2))\n"
   ]
  },
  {
   "cell_type": "markdown",
   "id": "9ca67fb8",
   "metadata": {},
   "source": [
    "2. How can you check if a key is already in a dictionary? Give an example."
   ]
  },
  {
   "cell_type": "code",
   "execution_count": 2,
   "id": "8b7e85e4",
   "metadata": {},
   "outputs": [
    {
     "name": "stdout",
     "output_type": "stream",
     "text": [
      "{'key1': 3213, 'key2': [3, 23, 23, 43, 5], 'key3': 'Hei'}\n",
      "key is found, and its related value is: 3213\n"
     ]
    }
   ],
   "source": [
    "#solution\n",
    "dic = dict(key1=3213, key2=[3,23,23,43,5], key3 = \"Hei\")\n",
    "print(dic)\n",
    "#check the key1\n",
    "if dic.get('key1') is not None:\n",
    "    print(\"key is found, and its related value is: \"+str(dic.get('key1')))"
   ]
  },
  {
   "cell_type": "markdown",
   "id": "9058ca38",
   "metadata": {},
   "source": [
    "3. Explore how Counter works as another type of collection. Give 2 examples to use Counter."
   ]
  },
  {
   "cell_type": "code",
   "execution_count": 22,
   "id": "72687490",
   "metadata": {
    "scrolled": true
   },
   "outputs": [
    {
     "name": "stdout",
     "output_type": "stream",
     "text": [
      "Counter({2: 2, 4: 2, 6: 2, 1: 1, 5: 1, 7: 1})\n",
      "Counter({2: 2, 4: 2, 6: 2, 1: 1, 5: 1, 7: 1})\n",
      "Counter({2: 2, 4: 2, 6: 2, 1: 1, 5: 1, 7: 1, '4': 1})\n"
     ]
    }
   ],
   "source": [
    "#Case 1:\n",
    "from collections import Counter\n",
    "num_list = [1,2,4,2,5,6,7,6,4]\n",
    "num_counter = Counter(num_list)\n",
    "print(num_counter)\n",
    "#retrun the most common element in the collection\n",
    "num_counter.most_common(1)\n",
    "\n",
    "#Case 2:\n",
    "print(num_counter)\n",
    "#add a item into Counter -> can here update a int value?\n",
    "num_counter.update('4')\n",
    "print(num_counter)"
   ]
  }
 ],
 "metadata": {
  "kernelspec": {
   "display_name": "Python 3 (ipykernel)",
   "language": "python",
   "name": "python3"
  },
  "language_info": {
   "codemirror_mode": {
    "name": "ipython",
    "version": 3
   },
   "file_extension": ".py",
   "mimetype": "text/x-python",
   "name": "python",
   "nbconvert_exporter": "python",
   "pygments_lexer": "ipython3",
   "version": "3.9.7"
  }
 },
 "nbformat": 4,
 "nbformat_minor": 5
}
