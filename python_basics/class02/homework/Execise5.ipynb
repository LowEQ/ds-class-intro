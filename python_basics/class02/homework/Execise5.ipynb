{
 "cells": [
  {
   "cell_type": "markdown",
   "id": "4c569d3c",
   "metadata": {},
   "source": [
    "#### Exercise 5.\n",
    "\n",
    "1. Write a Python program to find those numbers which are divisible by 7 and multiple of 5, between 1500 and 2700 (both included)."
   ]
  },
  {
   "cell_type": "code",
   "execution_count": 11,
   "id": "595680f8",
   "metadata": {},
   "outputs": [
    {
     "name": "stdout",
     "output_type": "stream",
     "text": [
      "[1500 1501 1502 ... 2698 2699 2700]\n",
      "[1505, 1540, 1575, 1610, 1645, 1680, 1715, 1750, 1785, 1820, 1855, 1890, 1925, 1960, 1995, 2030, 2065, 2100, 2135, 2170, 2205, 2240, 2275, 2310, 2345, 2380, 2415, 2450, 2485, 2520, 2555, 2590, 2625, 2660, 2695]\n"
     ]
    }
   ],
   "source": [
    "import numpy as np\n",
    "import array\n",
    "x = np.arange(1500, 2701)\n",
    "result = []\n",
    "print(x)\n",
    "for item in x:\n",
    "    if ((item % 7 == 0) and (item % 5 == 0)):\n",
    "        #print(item)\n",
    "        result.append(item)\n",
    "        \n",
    "print(result)"
   ]
  },
  {
   "cell_type": "markdown",
   "id": "b6dd8b00",
   "metadata": {},
   "source": [
    "2. Write a Python program to count the number of even and odd numbers from a series of numbers.\n",
    "\n",
    "Sample: `numbers = (1, 2, 3, 4, 5, 6, 7, 8, 9)`\n",
    "\n",
    "Expected Output :\n",
    "\n",
    "```\n",
    "Number of even numbers : 4\n",
    "Number of odd numbers : 5\n",
    "```\n",
    "2. Write a Python program to count the number of even and odd numbers from a series of numbers.\n",
    "\n",
    "Sample: `numbers = (1, 2, 3, 4, 5, 6, 7, 8, 9)`\n",
    "\n",
    "Expected Output :\n",
    "\n",
    "```\n",
    "Number of even numbers : 4\n",
    "Number of odd numbers : 5\n",
    "```"
   ]
  },
  {
   "cell_type": "code",
   "execution_count": 15,
   "id": "970d1b99",
   "metadata": {
    "scrolled": true
   },
   "outputs": [
    {
     "name": "stdout",
     "output_type": "stream",
     "text": [
      "Number of even numbers : 4\n",
      "Number of odd numbers : 7\n"
     ]
    }
   ],
   "source": [
    "numbers = (1,2,345,435,677,453,12,23,20,35,24)\n",
    "oddCounter = 0\n",
    "evenCounter = 0\n",
    "\n",
    "for item in numbers:\n",
    "    if(item % 2 == 0):\n",
    "        evenCounter = evenCounter+1\n",
    "    elif(item % 2 !=0):\n",
    "        oddCounter = oddCounter+1\n",
    "\n",
    "print(\"Number of even numbers : \"+ str(evenCounter))\n",
    "print(\"Number of odd numbers : \"+ str(oddCounter))"
   ]
  },
  {
   "cell_type": "markdown",
   "id": "5fe6c06f",
   "metadata": {},
   "source": [
    "3. Write a Python program which iterates the integers from 0 to 50. For multiples of three print \"Fizz\" instead of the number and for the multiples of five print \"Buzz\". For numbers which are multiples of both three and five print \"FizzBuzz\".\n",
    "\n",
    "Expected Output :\n",
    "```\n",
    "fizzbuzz\n",
    "1\n",
    "2\n",
    "fizz\n",
    "4\n",
    "buzz\n",
    "...\n",
    "```"
   ]
  },
  {
   "cell_type": "code",
   "execution_count": 14,
   "id": "25378cf2",
   "metadata": {},
   "outputs": [
    {
     "name": "stdout",
     "output_type": "stream",
     "text": [
      "[ 0  1  2  3  4  5  6  7  8  9 10 11 12 13 14 15 16 17 18 19 20 21 22 23\n",
      " 24 25 26 27 28 29 30 31 32 33 34 35 36 37 38 39 40 41 42 43 44 45 46 47\n",
      " 48 49 50]\n",
      "FizzBuzz\n",
      "0\n",
      "Fizz\n",
      "3\n",
      "Buzz\n",
      "5\n",
      "Fizz\n",
      "6\n",
      "Fizz\n",
      "9\n",
      "Buzz\n",
      "10\n",
      "Fizz\n",
      "12\n",
      "FizzBuzz\n",
      "15\n",
      "Fizz\n",
      "18\n",
      "Buzz\n",
      "20\n",
      "Fizz\n",
      "21\n",
      "Fizz\n",
      "24\n",
      "Buzz\n",
      "25\n",
      "Fizz\n",
      "27\n",
      "FizzBuzz\n",
      "30\n",
      "Fizz\n",
      "33\n",
      "Buzz\n",
      "35\n",
      "Fizz\n",
      "36\n",
      "Fizz\n",
      "39\n",
      "Buzz\n",
      "40\n",
      "Fizz\n",
      "42\n",
      "FizzBuzz\n",
      "45\n",
      "Fizz\n",
      "48\n",
      "Buzz\n",
      "50\n"
     ]
    }
   ],
   "source": [
    "import numpy as np \n",
    "list3 = np.arange(0, 51)\n",
    "print(list3)\n",
    "for item in list3:\n",
    "    if (item%5 == 0 and item%3 == 0):\n",
    "        print(\"FizzBuzz\")\n",
    "        print(item)\n",
    "    elif(item%5== 0):\n",
    "        print(\"Buzz\")\n",
    "        print(item)\n",
    "    elif(item%3 == 0):\n",
    "        print(\"Fizz\")\n",
    "        print(item)"
   ]
  },
  {
   "cell_type": "markdown",
   "id": "c9a10891",
   "metadata": {},
   "source": [
    "4. Given a list iterate it and display numbers which are divisible by 5 and if you find number greater than 150 stop the loop iteration\n",
    "\n",
    "`list1 = [12, 15, 32, 42, 55, 75, 122, 132, 150, 180, 200]`\n",
    "\n",
    "Expected output:\n",
    "```\n",
    "15\n",
    "55\n",
    "75\n",
    "150\n",
    "```"
   ]
  },
  {
   "cell_type": "code",
   "execution_count": null,
   "id": "f49b4313",
   "metadata": {},
   "outputs": [],
   "source": []
  }
 ],
 "metadata": {
  "kernelspec": {
   "display_name": "Python 3 (ipykernel)",
   "language": "python",
   "name": "python3"
  },
  "language_info": {
   "codemirror_mode": {
    "name": "ipython",
    "version": 3
   },
   "file_extension": ".py",
   "mimetype": "text/x-python",
   "name": "python",
   "nbconvert_exporter": "python",
   "pygments_lexer": "ipython3",
   "version": "3.9.7"
  }
 },
 "nbformat": 4,
 "nbformat_minor": 5
}
